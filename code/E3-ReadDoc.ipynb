{
 "cells": [
  {
   "cell_type": "markdown",
   "id": "c52bf402",
   "metadata": {},
   "source": [
    "# Read Doc"
   ]
  },
  {
   "cell_type": "code",
   "execution_count": null,
   "id": "41e50133",
   "metadata": {},
   "outputs": [],
   "source": [
    "#!pip install docx2txt"
   ]
  },
  {
   "cell_type": "code",
   "execution_count": null,
   "id": "6b3d2461",
   "metadata": {},
   "outputs": [],
   "source": [
    "#!pip install textract # for reading old doc files (no docx)"
   ]
  },
  {
   "cell_type": "code",
   "execution_count": null,
   "id": "8ca0fed8",
   "metadata": {},
   "outputs": [],
   "source": [
    "#!pip install python-docx # for reading the metadata"
   ]
  },
  {
   "cell_type": "code",
   "execution_count": null,
   "id": "f45f0101",
   "metadata": {},
   "outputs": [],
   "source": [
    "%%writefile readdoc.py\n",
    "\n",
    "import docx2txt\n",
    "import docx\n",
    "from docx.document import Document\n",
    "from docx.opc.coreprops import CoreProperties\n",
    "\n",
    "def readDoc(filename):    \n",
    "    mydoc = docx.Document(filename)\n",
    "    mymeta = getMeta(mydoc)\n",
    "    text = docx2txt.process(filename)\n",
    "    text = text.replace('\\n', ' ')\n",
    "    return mymeta, text\n",
    "    \n",
    "def getMeta(doc):\n",
    "    metadata = {}\n",
    "    prop = doc.core_properties\n",
    "    metadata[\"author\"] = prop.author\n",
    "    metadata[\"category\"] = prop.category\n",
    "    metadata[\"comments\"] = prop.comments\n",
    "    metadata[\"content_status\"] = prop.content_status\n",
    "    metadata[\"created\"] = prop.created\n",
    "    metadata[\"identifier\"] = prop.identifier\n",
    "    metadata[\"keywords\"] = prop.keywords\n",
    "    metadata[\"last_modified_by\"] = prop.last_modified_by\n",
    "    metadata[\"language\"] = prop.language\n",
    "    metadata[\"modified\"] = prop.modified\n",
    "    metadata[\"subject\"] = prop.subject\n",
    "    metadata[\"title\"] = prop.title\n",
    "    metadata[\"version\"] = prop.version\n",
    "    return metadata\n",
    "     "
   ]
  },
  {
   "cell_type": "markdown",
   "id": "4af71fa4",
   "metadata": {},
   "source": [
    "## Test"
   ]
  },
  {
   "cell_type": "code",
   "execution_count": null,
   "id": "c7da494a",
   "metadata": {},
   "outputs": [],
   "source": [
    "import readdoc\n",
    "from readdoc import readDoc"
   ]
  },
  {
   "cell_type": "code",
   "execution_count": null,
   "id": "1f7ea23e",
   "metadata": {},
   "outputs": [],
   "source": [
    "import importlib \n",
    "importlib.reload(readdoc)"
   ]
  },
  {
   "cell_type": "code",
   "execution_count": null,
   "id": "6c3d6c93",
   "metadata": {},
   "outputs": [],
   "source": [
    "import pandas as pd"
   ]
  },
  {
   "cell_type": "code",
   "execution_count": null,
   "id": "b76ddd3a",
   "metadata": {},
   "outputs": [],
   "source": [
    "# prepare dataframe, if it doesn't exist\n",
    "df = pd.DataFrame(columns = ['filetype' ,'meta', 'text'])"
   ]
  },
  {
   "cell_type": "code",
   "execution_count": null,
   "id": "c70d5207",
   "metadata": {},
   "outputs": [],
   "source": [
    "# all doc files\n",
    "in_doc = ['/Users/tdi/Documents/Holodeck/Holodeck/Docs/DocsTest.docx']"
   ]
  },
  {
   "cell_type": "code",
   "execution_count": null,
   "id": "312ffad7",
   "metadata": {},
   "outputs": [],
   "source": [
    "ingestable = []\n",
    "for uri in in_doc:\n",
    "    mymeta, text = readDoc(uri)\n",
    "    ingestable.append(text)\n",
    "    # add new row to the end of the dataframe\n",
    "    df.loc[len(df.index)] = ['docx', mymeta, text]"
   ]
  },
  {
   "cell_type": "code",
   "execution_count": null,
   "id": "dcd78cb5",
   "metadata": {},
   "outputs": [],
   "source": [
    "df"
   ]
  },
  {
   "cell_type": "code",
   "execution_count": null,
   "id": "03eaa449",
   "metadata": {},
   "outputs": [],
   "source": [
    "df.columns"
   ]
  },
  {
   "cell_type": "code",
   "execution_count": 20,
   "id": "85eeddc0",
   "metadata": {},
   "outputs": [
    {
     "data": {
      "text/plain": [
       "'Todorka Stoyanova Dimitrova (TDI - Lektor - Cphbusiness)'"
      ]
     },
     "execution_count": 20,
     "metadata": {},
     "output_type": "execute_result"
    }
   ],
   "source": [
    "df['meta'][0]['author']"
   ]
  },
  {
   "cell_type": "code",
   "execution_count": null,
   "id": "f7ceac80",
   "metadata": {},
   "outputs": [],
   "source": [
    "df['text']"
   ]
  }
 ],
 "metadata": {
  "kernelspec": {
   "display_name": "Python 3 (ipykernel)",
   "language": "python",
   "name": "python3"
  },
  "language_info": {
   "codemirror_mode": {
    "name": "ipython",
    "version": 3
   },
   "file_extension": ".py",
   "mimetype": "text/x-python",
   "name": "python",
   "nbconvert_exporter": "python",
   "pygments_lexer": "ipython3",
   "version": "3.11.4"
  }
 },
 "nbformat": 4,
 "nbformat_minor": 5
}
