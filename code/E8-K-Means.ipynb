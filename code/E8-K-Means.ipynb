{
 "cells": [
  {
   "cell_type": "markdown",
   "metadata": {},
   "source": [
    "# Unsupervised Machine Learning by K-Means Algorithm"
   ]
  },
  {
   "cell_type": "code",
   "execution_count": null,
   "metadata": {},
   "outputs": [],
   "source": [
    "import numpy as np\n",
    "import pandas as pd\n",
    "import matplotlib.pyplot as plt\n",
    "from sklearn.cluster import KMeans\n",
    "from sklearn import metrics\n",
    "from sklearn.metrics import silhouette_score\n",
    "from scipy.spatial.distance import cdist"
   ]
  },
  {
   "cell_type": "markdown",
   "metadata": {},
   "source": [
    "## Step 1: Data Preparation"
   ]
  },
  {
   "cell_type": "code",
   "execution_count": null,
   "metadata": {},
   "outputs": [],
   "source": [
    "!pwd"
   ]
  },
  {
   "cell_type": "code",
   "execution_count": null,
   "metadata": {},
   "outputs": [],
   "source": [
    "# Load input data\n",
    "# x = pd.read_csv('../data/sales.csv', delimiter=',')\n",
    "# X = x.values\n",
    "# X = X[:,1:]\n",
    "\n",
    "X = np.loadtxt('/Users/tdi/Documents/Teaching/Data/data_clustering.txt', delimiter=',')\n",
    "print(X)"
   ]
  },
  {
   "cell_type": "code",
   "execution_count": null,
   "metadata": {},
   "outputs": [],
   "source": [
    "# Plot the input data\n",
    "# a. creates figure\n",
    "plt.figure()\n",
    "plt.title('Input data')\n",
    "\n",
    "# b. get the range of X and Y (long way)\n",
    "# first column\n",
    "x_min = X[:, 0].min()\n",
    "x_max = X[:, 0].max()\n",
    "\n",
    "# second column\n",
    "y_min = X[:, 1].min()\n",
    "y_max = X[:, 1].max()\n",
    "\n",
    "# same as above: get the range of X and Y (short way)\n",
    "# x_min, x_max = X[:, 0].min(), X[:, 0].max()\n",
    "# y_min, y_max = X[:, 1].min(), X[:, 1].max()\n",
    "\n",
    "# c. set plot limits\n",
    "plt.xlim(x_min - 1, x_max + 1)\n",
    "plt.ylim(y_min - 1, y_max + 1)\n",
    "\n",
    "# plot the points\n",
    "plt.scatter(X[:,0], X[:,1], marker='o', facecolors='none', edgecolors='black', s=30)\n",
    "\n",
    "plt.show()"
   ]
  },
  {
   "cell_type": "markdown",
   "metadata": {},
   "source": [
    "## Step 2: Implement KMeans Algorithm for Training a Prediction Model"
   ]
  },
  {
   "cell_type": "markdown",
   "metadata": {},
   "source": [
    "### Determine K by Elbow Method"
   ]
  },
  {
   "cell_type": "code",
   "execution_count": null,
   "metadata": {},
   "outputs": [],
   "source": [
    "# Determine k by minimizing the distortion - \n",
    "# the sum of the squared distances between each observation vector and its centroid\n",
    "distortions = []\n",
    "K = range(2,10)\n",
    "for k in K:\n",
    "    model = KMeans(n_clusters=k, n_init=10).fit(X)\n",
    "    model.fit(X)\n",
    "    distortions.append(sum(np.min(cdist(X, model.cluster_centers_, 'euclidean'), axis=1)) / X.shape[0]) \n",
    "print(\"Distortion: \", distortions)"
   ]
  },
  {
   "cell_type": "code",
   "execution_count": null,
   "metadata": {},
   "outputs": [],
   "source": [
    "# Plot the distortion to discover the elbow\n",
    "plt.title('Elbow Method for Optimal K')\n",
    "plt.plot(K, distortions, 'bx-')\n",
    "plt.xlabel('K')\n",
    "plt.ylabel('Distortion')\n",
    "plt.show()"
   ]
  },
  {
   "cell_type": "code",
   "execution_count": null,
   "metadata": {},
   "outputs": [],
   "source": [
    "# Optimal number of clusters K\n",
    "num_clusters = 5"
   ]
  },
  {
   "cell_type": "code",
   "execution_count": null,
   "metadata": {},
   "outputs": [],
   "source": [
    "# Create an instance of KMeans classifier\n",
    "kmeans = KMeans(init='k-means++', n_clusters=num_clusters, n_init=20)\n",
    "# init: method of experimemtal finding the initial location of the centroids\n",
    "# n_init: the algorithm will run n_init times with different cetroids and the best result of those will be taken"
   ]
  },
  {
   "cell_type": "code",
   "execution_count": null,
   "metadata": {},
   "outputs": [],
   "source": [
    "# Train the KMeans clustering model\n",
    "kmeans.fit(X)"
   ]
  },
  {
   "cell_type": "markdown",
   "metadata": {},
   "source": [
    "### Determin K by Silhouette Score\n",
    "A silhouette score is a measure of clusterts quality in terms of __cohesion__ (small distance between the data in one cluster) and __separation__ (large distance between the clusters). <br>\n",
    "It is calculated for each point separately and then as an average value of the individual scores.<br>\n",
    "The value is a number [-1, +1]. The best result is 1, while -1 means wrong clustering. The peripherial points in a cluster would produce result close to 0.<br>\n",
    "We can apply the method for choosing the right number of clusters, as well as for comparing different methods of clustering.\n",
    "We always search for the maximum silhouette score."
   ]
  },
  {
   "cell_type": "code",
   "execution_count": null,
   "metadata": {},
   "outputs": [],
   "source": [
    "# Determine k by maximising the silhouette score for each number of clusters\n",
    "scores = []\n",
    "K = range(2,10)\n",
    "for k in K:\n",
    "    model = KMeans(n_clusters=k, n_init=10)\n",
    "    model.fit(X)\n",
    "    score = metrics.silhouette_score(X, model.labels_, metric='euclidean', sample_size=len(X))\n",
    "    print(\"\\nNumber of clusters =\", k)\n",
    "    print(\"Silhouette score =\", score)\n",
    "    scores.append(score)"
   ]
  },
  {
   "cell_type": "code",
   "execution_count": null,
   "metadata": {},
   "outputs": [],
   "source": [
    "# Plot the elbow\n",
    "plt.title('Silhouette Score Method for Discovering the Optimal K')\n",
    "plt.plot(K, scores, 'bx-')\n",
    "plt.xlabel('K')\n",
    "plt.ylabel('Silhouette Score')\n",
    "plt.show()"
   ]
  },
  {
   "cell_type": "markdown",
   "metadata": {},
   "source": [
    "## Step 3: Implement the Trained Model for Prediction"
   ]
  },
  {
   "cell_type": "code",
   "execution_count": null,
   "metadata": {},
   "outputs": [],
   "source": [
    "# Predict 5 clusters in X\n",
    "y = kmeans.predict(X)\n",
    "y"
   ]
  },
  {
   "cell_type": "code",
   "execution_count": null,
   "metadata": {},
   "outputs": [],
   "source": [
    "# See the predicted labels of clusters\n",
    "# cluster labels are stored in variable 'kmeans.labels_'\n",
    "print(kmeans.labels_)\n",
    "\n",
    "# same as print(Y)"
   ]
  },
  {
   "cell_type": "markdown",
   "metadata": {},
   "source": [
    "## Step 4: Review the Results"
   ]
  },
  {
   "cell_type": "markdown",
   "metadata": {},
   "source": [
    "### Clusters seen one by one"
   ]
  },
  {
   "cell_type": "code",
   "execution_count": null,
   "metadata": {},
   "outputs": [],
   "source": [
    "# Split the clusters, for demo purpose only\n",
    "for i in range(num_clusters):\n",
    "    # slice the cluster\n",
    "    cluster = X[y == i]    \n",
    "    # print the shape\n",
    "    print(\"Cluster \", i, \": \", cluster.shape)    \n",
    "    # plot the points of this cluster\n",
    "    plt.scatter(cluster[:, 0], cluster[:, 1])   \n",
    "    plt.grid(True)\n",
    "    plt.show()"
   ]
  },
  {
   "cell_type": "markdown",
   "metadata": {},
   "source": [
    "### All Clusters in One Plot"
   ]
  },
  {
   "cell_type": "code",
   "execution_count": null,
   "metadata": {},
   "outputs": [],
   "source": [
    "# Plot the points with color code of the predicted clusters\n",
    "# viridis - a color map, https://matplotlib.org/users/colormaps.html\n",
    "# s - marker size, here, the dots size\n",
    "# c - marker color, here taken from the predicted clusters\n",
    "plt.scatter(X[:, 0], X[:, 1], c=y, s=50, cmap='viridis')\n",
    "\n",
    "plt.grid(True)\n",
    "plt.show()"
   ]
  },
  {
   "cell_type": "code",
   "execution_count": null,
   "metadata": {
    "scrolled": true
   },
   "outputs": [],
   "source": [
    "# See the cluster centres, created during the clustering\n",
    "# cluster centres are stored in a variable named 'cluster_centers_'\n",
    "print(kmeans.cluster_centers_)"
   ]
  },
  {
   "cell_type": "markdown",
   "metadata": {},
   "source": [
    "### Print Bondaries of Clusters"
   ]
  },
  {
   "cell_type": "code",
   "execution_count": null,
   "metadata": {},
   "outputs": [],
   "source": [
    "# we need a grid of points for drawing a smooth border between clusters\n",
    "# define step size of the mesh \n",
    "step_size = 0.01\n",
    "\n",
    "# we need to cover all points of our data\n",
    "# create a grid out of an array of X values and an array of y values\n",
    "x_coord = np.arange(x_min, x_max, step_size)\n",
    "y_coord = np.arange(y_min, y_max, step_size)\n",
    "\n",
    "# meshgrid() creates a matrix of coordinates from the two vectors of coordinates\n",
    "x_vals, y_vals = np.meshgrid(x_coord, y_coord)"
   ]
  },
  {
   "cell_type": "code",
   "execution_count": null,
   "metadata": {},
   "outputs": [],
   "source": [
    "# Predict cluster labels for all the points on the grid \n",
    "# ravel() returns 1D-array\n",
    "xx = x_vals.ravel()\n",
    "yy = y_vals.ravel()\n",
    "\n",
    "# np.c_ concatenates the arguments\n",
    "labels = kmeans.predict(np.c_[xx,yy])\n",
    "labels = labels.reshape(x_vals.shape)"
   ]
  },
  {
   "cell_type": "code",
   "execution_count": null,
   "metadata": {},
   "outputs": [],
   "source": [
    "# Plot the clusters\n",
    "# create new plot area\n",
    "plt.figure()\n",
    "# clear the plot area\n",
    "plt.clf()\n",
    "\n",
    "plt.title('Boundaries of clusters')\n",
    "\n",
    "# plot the frame\n",
    "plt.xlim(x_min, x_max)\n",
    "plt.ylim(y_min, y_max)\n",
    "\n",
    "# plot the clusters \n",
    "plt.imshow(labels, interpolation='nearest',\n",
    "           extent=(x_vals.min(), x_vals.max(), y_vals.min(), y_vals.max()),\n",
    "           cmap='viridis', aspect='auto')\n",
    "# plot the points as they belong to the clusters\n",
    "plt.scatter(X[:,0], X[:,1], marker='o', facecolors='none', edgecolors='white', s=30) \n",
    "\n",
    "# plot the centroids\n",
    "centers = kmeans.cluster_centers_\n",
    "plt.scatter(centers[:,0], centers[:,1],  s=200, linewidths=2, color='yellow', marker='*', zorder=3, facecolors='black')\n",
    "\n",
    "# annotate the centroids\n",
    "for i, center in enumerate(centers):\n",
    "    plt.annotate(i, center+[0.0,1.0], \n",
    "                 size=15, zorder=1, color='yellow', weight='bold', \n",
    "                 horizontalalignment='center', verticalalignment='center',) \n",
    "plt.show()"
   ]
  },
  {
   "cell_type": "markdown",
   "metadata": {
    "collapsed": true
   },
   "source": [
    "For labeling clusters see also https://nikkimarinsek.com/blog/7-ways-to-label-a-cluster-plot-python"
   ]
  },
  {
   "cell_type": "code",
   "execution_count": null,
   "metadata": {},
   "outputs": [],
   "source": [
    "# Repeat the training and clustering with different number of clusters K\n",
    "# Compare the images\n",
    "# Select the one with most compact clusters"
   ]
  },
  {
   "cell_type": "markdown",
   "metadata": {
    "collapsed": true
   },
   "source": [
    "## Step 5: Validate the Model"
   ]
  },
  {
   "cell_type": "code",
   "execution_count": null,
   "metadata": {},
   "outputs": [],
   "source": [
    "#!pip install yellowbrick"
   ]
  },
  {
   "cell_type": "code",
   "execution_count": null,
   "metadata": {},
   "outputs": [],
   "source": [
    "from yellowbrick.cluster import SilhouetteVisualizer"
   ]
  },
  {
   "cell_type": "code",
   "execution_count": null,
   "metadata": {},
   "outputs": [],
   "source": [
    "k = 5\n",
    "model = KMeans(n_clusters=k, n_init=10)\n",
    "model.fit_predict(X)"
   ]
  },
  {
   "cell_type": "code",
   "execution_count": null,
   "metadata": {},
   "outputs": [],
   "source": [
    "score = silhouette_score(X, model.labels_, metric='euclidean')\n",
    "print('Silhouette Score: %.3f' % score)"
   ]
  },
  {
   "cell_type": "code",
   "execution_count": null,
   "metadata": {},
   "outputs": [],
   "source": [
    "# Visualize the silhouette scores of all points\n",
    "visualizer = SilhouetteVisualizer(model, colors='yellowbrick')\n",
    "visualizer.fit(X)\n",
    "visualizer.show()  "
   ]
  },
  {
   "cell_type": "markdown",
   "metadata": {},
   "source": [
    "Interpretation: Each component of the figure represents one cluster with a horisontal bar chart of each cluster point. <br>\n",
    "Clusters are seen almost equaly tick and long - similar. There is no cluster with a silhouette score lower than the average (the red line). <br>\n",
    "The score is bigger than 0.5 - relatively good."
   ]
  },
  {
   "cell_type": "markdown",
   "metadata": {
    "collapsed": true
   },
   "source": [
    "## Step 6: Implement the Model on New Data"
   ]
  },
  {
   "cell_type": "code",
   "execution_count": null,
   "metadata": {},
   "outputs": [],
   "source": [
    "# predict cluster of nonseen data\n",
    "test = kmeans.predict([[5.8, 4.5]])\n",
    "print(test)"
   ]
  },
  {
   "cell_type": "code",
   "execution_count": null,
   "metadata": {},
   "outputs": [],
   "source": [
    "test = kmeans.predict([[6.0, 8.0]]) == 3\n",
    "print(test)"
   ]
  },
  {
   "cell_type": "markdown",
   "metadata": {},
   "source": [
    "## Step 7: Store the Model in a File"
   ]
  },
  {
   "cell_type": "code",
   "execution_count": null,
   "metadata": {},
   "outputs": [],
   "source": [
    "!pip3 install joblib"
   ]
  },
  {
   "cell_type": "code",
   "execution_count": null,
   "metadata": {},
   "outputs": [],
   "source": [
    "# For serialization and deserialization of data from/to file\n",
    "# from sklearn.externals import joblib\n",
    "import joblib\n",
    "joblib.dump(kmeans, '../data/kmmodel.pkl')"
   ]
  },
  {
   "cell_type": "markdown",
   "metadata": {},
   "source": [
    "## Practice"
   ]
  },
  {
   "cell_type": "markdown",
   "metadata": {
    "collapsed": true
   },
   "source": [
    "Implement the procedure to a data set from the file __sales.csv__ to segment the sales and discover patterns.\n",
    "Observe the recommended number of clusters and the initial location of the centroids."
   ]
  },
  {
   "cell_type": "code",
   "execution_count": null,
   "metadata": {},
   "outputs": [],
   "source": []
  }
 ],
 "metadata": {
  "kernelspec": {
   "display_name": "Python 3 (ipykernel)",
   "language": "python",
   "name": "python3"
  },
  "language_info": {
   "codemirror_mode": {
    "name": "ipython",
    "version": 3
   },
   "file_extension": ".py",
   "mimetype": "text/x-python",
   "name": "python",
   "nbconvert_exporter": "python",
   "pygments_lexer": "ipython3",
   "version": "3.11.4"
  }
 },
 "nbformat": 4,
 "nbformat_minor": 2
}
