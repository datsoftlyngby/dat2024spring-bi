{
 "cells": [
  {
   "cell_type": "markdown",
   "id": "bf1d048e",
   "metadata": {},
   "source": [
    "## Chunking\n",
    "Splitting the documments into smaller chunks. Various types  of splitting exist:\n",
    "- text splitter\n",
    "- document splitter\n",
    "- token splitter\n",
    "- markdown splitter\n",
    "- ...\n",
    "We apply RecursiveCharacterTextSplitter, which splits the text in documents recursively until chunks are under the specified size - first searches for double \\n; then for single \\n; then for \" \"; and finally for \"\" <br>\n",
    "\n",
    "Can use parameters:\n",
    "- length_function: how the length of chunks is calculated. Defaults to just counting number of characters, \n",
    "- chunk_size: the maximum size of your chunks (as measured by the length function)\n",
    "- chunk_overlap: the maximum overlap between chunks. It can be nice to have some overlap to maintain some continuity between chunks (e.g. do a sliding window)\n",
    "- add_start_index: whether to include the starting position of each chunk within the original document in the metadata\n",
    "- is_separator_regex: boolean\n",
    "- default separators=['\\n\\n', '\\n', ' ', '']"
   ]
  },
  {
   "cell_type": "code",
   "execution_count": null,
   "id": "42fca984",
   "metadata": {},
   "outputs": [],
   "source": []
  },
  {
   "cell_type": "code",
   "execution_count": 9,
   "id": "499de8c6",
   "metadata": {},
   "outputs": [
    {
     "name": "stdout",
     "output_type": "stream",
     "text": [
      "Overwriting myutils.py\n"
     ]
    }
   ],
   "source": [
    "%%writefile myutils.py\n",
    "\n",
    "import spacy\n",
    "import langdetect\n",
    "from wordcloud import WordCloud \n",
    "from langdetect import DetectorFactory, detect, detect_langs\n",
    "from langchain.text_splitter import RecursiveCharacterTextSplitter\n",
    "\n",
    "def chunkDocs(doc, size):  \n",
    "    r_text_splitter = RecursiveCharacterTextSplitter(\n",
    "        # Set custom chunk size\n",
    "        chunk_size = size,\n",
    "        chunk_overlap  = 0,\n",
    "        separators = ['\\n\\n', '\\n', ' ', '']\n",
    "    )\n",
    "    split = r_text_splitter.split_documents(doc)\n",
    "    # splits = r_text_splitter.split_text(doc)\n",
    "    return split \n",
    "\n",
    "def langDetect(text):\n",
    "    mylang = ''\n",
    "    mylangprob = 0.0\n",
    "    try:\n",
    "        langs = langdetect.detect_langs(text)\n",
    "        mylang, mylangprop = langs[0].lang, langs[0].prob \n",
    "        \n",
    "        # English\n",
    "        if mylang=='en': \n",
    "            models = ['en_core_web_md', 'da_core_news_md']\n",
    "            default_model = 'en_core_web_md'\n",
    "        # Danish    \n",
    "        elif mylang=='da' or lang=='no': \n",
    "            models = ['da_core_news_md', 'en_core_web_md']\n",
    "            default_model = 'da_core_news_md'\n",
    "        # both    \n",
    "        nlp = spacy.load(default_model)\n",
    "        stopw = nlp.Defaults.stop_words\n",
    "    \n",
    "    # another language\n",
    "    except langdetect.lang_detect_exception.LangDetectException:\n",
    "        log.debug('Language not supported')\n",
    "        \n",
    "    return default_model, stopw\n",
    "\n",
    "# Create a WordCloud object of a dataframe\n",
    "def wordCloud(df, col):   \n",
    "    longstring = [','.join(list(x)) for x in df[col].values]\n",
    "    longstring = str(longstring).replace('\\\\n',' ')\n",
    "    longstring = str(longstring).replace(col,' ')\n",
    "    # get stopwords\n",
    "    stopw = langDetect(longstring)[1]\n",
    "    # remove stopwords\n",
    "    words = [word for word in longstring.split() if word.lower() not in stopw]\n",
    "    clean_text = \" \".join(words)\n",
    "    # settings\n",
    "    wordcloud = WordCloud(background_color=\"white\", max_words=1500, contour_width=3, contour_color='steelblue')\n",
    "    # view\n",
    "    wordcloud.generate(str(clean_text))\n",
    "    im = wordcloud.to_image()\n",
    "    return im,longstring"
   ]
  },
  {
   "cell_type": "code",
   "execution_count": null,
   "id": "dcad4ff5",
   "metadata": {},
   "outputs": [],
   "source": []
  }
 ],
 "metadata": {
  "kernelspec": {
   "display_name": "Python 3 (ipykernel)",
   "language": "python",
   "name": "python3"
  },
  "language_info": {
   "codemirror_mode": {
    "name": "ipython",
    "version": 3
   },
   "file_extension": ".py",
   "mimetype": "text/x-python",
   "name": "python",
   "nbconvert_exporter": "python",
   "pygments_lexer": "ipython3",
   "version": "3.11.4"
  }
 },
 "nbformat": 4,
 "nbformat_minor": 5
}
