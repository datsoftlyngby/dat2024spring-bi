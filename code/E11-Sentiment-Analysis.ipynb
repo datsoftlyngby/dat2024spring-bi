{
 "cells": [
  {
   "cell_type": "markdown",
   "id": "2e53327a",
   "metadata": {},
   "source": [
    "# Sentiment Analysis"
   ]
  },
  {
   "cell_type": "code",
   "execution_count": null,
   "id": "27adbcd0",
   "metadata": {},
   "outputs": [],
   "source": [
    "!pip install spacytextblob"
   ]
  },
  {
   "cell_type": "code",
   "execution_count": null,
   "id": "21193e03",
   "metadata": {},
   "outputs": [],
   "source": [
    "import spacy\n",
    "from spacy import displacy"
   ]
  },
  {
   "cell_type": "code",
   "execution_count": null,
   "id": "f6562a63",
   "metadata": {},
   "outputs": [],
   "source": [
    "import langdetect\n",
    "from langdetect import DetectorFactory, detect, detect_langs"
   ]
  },
  {
   "cell_type": "code",
   "execution_count": null,
   "id": "5a4a036f",
   "metadata": {},
   "outputs": [],
   "source": [
    "from spacy.lang.en import English\n",
    "from spacy.lang.da import Danish"
   ]
  },
  {
   "cell_type": "code",
   "execution_count": null,
   "id": "a3d085c0",
   "metadata": {},
   "outputs": [],
   "source": [
    "from spacytextblob.spacytextblob import SpacyTextBlob "
   ]
  },
  {
   "cell_type": "code",
   "execution_count": null,
   "id": "2766238a",
   "metadata": {},
   "outputs": [],
   "source": [
    "# function to detect the language\n",
    "def langDetect(text):    \n",
    "    mylang = ''        # language\n",
    "    mylangprob = 0.0   # probability \n",
    "    try:\n",
    "        langs = langdetect.detect_langs(text)\n",
    "        mylang, mylangprob = langs[0].lang, langs[0].prob \n",
    "        print('Detected language:', mylang, mylangprob)\n",
    "        \n",
    "        if mylang=='en':     \n",
    "            # default = English()  # Include English language data    \n",
    "            model = 'en_core_web_md'\n",
    "            \n",
    "        elif mylang=='da' or mylang=='no': # Danish\n",
    "            # default = Danish()  # Include Danish language data \n",
    "            model = 'da_core_news_md'\n",
    "        \n",
    "    # another language?\n",
    "    except langdetect.lang_detect_exception.LangDetectException:\n",
    "        log.debug('Language not recognised')\n",
    "        pass\n",
    "    return model"
   ]
  },
  {
   "cell_type": "code",
   "execution_count": null,
   "id": "2503d55e",
   "metadata": {},
   "outputs": [],
   "source": [
    "# en\n",
    "text = 'I had a really horrible day. It was the worst day ever! But every now and then I have a really good day that makes me happy. '"
   ]
  },
  {
   "cell_type": "code",
   "execution_count": null,
   "id": "b3d97042",
   "metadata": {},
   "outputs": [],
   "source": [
    "# da\n",
    "text = 'Jeg havde en virkelig forfærdelig dag. Det var den værste dag nogensinde! Men nu og da har jeg en rigtig god dag, der gør mig glad.'"
   ]
  },
  {
   "cell_type": "code",
   "execution_count": null,
   "id": "9fec9b77",
   "metadata": {},
   "outputs": [],
   "source": [
    "model = langDetect(text)"
   ]
  },
  {
   "cell_type": "code",
   "execution_count": null,
   "id": "c4325c69",
   "metadata": {},
   "outputs": [],
   "source": [
    "# for Danish\n",
    "nlp = spacy.load('da_core_news_md') "
   ]
  },
  {
   "cell_type": "code",
   "execution_count": null,
   "id": "d9d89bd7",
   "metadata": {},
   "outputs": [],
   "source": [
    "# for English\n",
    "nlp = spacy.load('en_core_web_md')"
   ]
  },
  {
   "cell_type": "code",
   "execution_count": null,
   "id": "1202f917",
   "metadata": {},
   "outputs": [],
   "source": [
    "# addf pipe for determining the polarity\n",
    "_=nlp.add_pipe('spacytextblob')"
   ]
  },
  {
   "cell_type": "code",
   "execution_count": null,
   "id": "aff01019",
   "metadata": {},
   "outputs": [],
   "source": [
    "# create a doc object\n",
    "doc = nlp(text)"
   ]
  },
  {
   "cell_type": "code",
   "execution_count": null,
   "id": "1237a531",
   "metadata": {},
   "outputs": [],
   "source": [
    "print('polarity', doc._.polarity)\n",
    "print('subjectivity', doc._.subjectivity)"
   ]
  },
  {
   "cell_type": "code",
   "execution_count": null,
   "id": "367bcbbc",
   "metadata": {},
   "outputs": [],
   "source": [
    "#Split the text in sentences\n",
    "for sent in doc.sents:\n",
    "    print(sent)\n",
    "    print('polarity', sent._.polarity)\n",
    "    print('subjectivity', sent._.subjectivity)"
   ]
  },
  {
   "cell_type": "code",
   "execution_count": null,
   "id": "670b1e76",
   "metadata": {},
   "outputs": [],
   "source": []
  }
 ],
 "metadata": {
  "kernelspec": {
   "display_name": "Python 3 (ipykernel)",
   "language": "python",
   "name": "python3"
  },
  "language_info": {
   "codemirror_mode": {
    "name": "ipython",
    "version": 3
   },
   "file_extension": ".py",
   "mimetype": "text/x-python",
   "name": "python",
   "nbconvert_exporter": "python",
   "pygments_lexer": "ipython3",
   "version": "3.11.4"
  }
 },
 "nbformat": 4,
 "nbformat_minor": 5
}
