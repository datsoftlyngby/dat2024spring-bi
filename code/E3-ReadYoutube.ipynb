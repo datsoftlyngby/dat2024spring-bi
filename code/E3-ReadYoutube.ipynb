{
 "cells": [
  {
   "cell_type": "markdown",
   "id": "1a146e0c",
   "metadata": {},
   "source": [
    "## Load Youtube Transcript"
   ]
  },
  {
   "cell_type": "code",
   "execution_count": null,
   "id": "a39223fa",
   "metadata": {},
   "outputs": [],
   "source": [
    "%%writefile loadyoutube.py\n",
    "# Load Youtube video transcripts  \n",
    "def loadYoutube(url,lang):\n",
    "    from langchain.document_loaders import YoutubeLoader\n",
    "    loader = YoutubeLoader.from_youtube_url(url, add_video_info=True, language = lang, translation = lang)\n",
    "    docs = loader.load()\n",
    "    return docs"
   ]
  },
  {
   "cell_type": "markdown",
   "id": "d88f8e71",
   "metadata": {},
   "source": [
    "## Test"
   ]
  },
  {
   "cell_type": "code",
   "execution_count": null,
   "id": "c7da494a",
   "metadata": {},
   "outputs": [],
   "source": [
    "import loadyoutube\n",
    "from loadyoutube import loadYoutube"
   ]
  },
  {
   "cell_type": "code",
   "execution_count": null,
   "id": "1f7ea23e",
   "metadata": {},
   "outputs": [],
   "source": [
    "import importlib \n",
    "importlib.reload(loadyoutube)"
   ]
  },
  {
   "cell_type": "code",
   "execution_count": null,
   "id": "5afea158",
   "metadata": {},
   "outputs": [],
   "source": [
    "url = 'https://www.youtube.com/watch?v=D04DaEzIV-A&t=4s'"
   ]
  },
  {
   "cell_type": "code",
   "execution_count": null,
   "id": "957cef1d",
   "metadata": {},
   "outputs": [],
   "source": [
    "# language: Danish\n",
    "lang = 'da'"
   ]
  },
  {
   "cell_type": "code",
   "execution_count": null,
   "id": "b4559d15",
   "metadata": {},
   "outputs": [],
   "source": [
    "doc = loadYoutube(url, lang)"
   ]
  },
  {
   "cell_type": "code",
   "execution_count": null,
   "id": "07c7ee33",
   "metadata": {},
   "outputs": [],
   "source": [
    "doc\n"
   ]
  }
 ],
 "metadata": {
  "kernelspec": {
   "display_name": "Python 3 (ipykernel)",
   "language": "python",
   "name": "python3"
  },
  "language_info": {
   "codemirror_mode": {
    "name": "ipython",
    "version": 3
   },
   "file_extension": ".py",
   "mimetype": "text/x-python",
   "name": "python",
   "nbconvert_exporter": "python",
   "pygments_lexer": "ipython3",
   "version": "3.11.4"
  }
 },
 "nbformat": 4,
 "nbformat_minor": 5
}
