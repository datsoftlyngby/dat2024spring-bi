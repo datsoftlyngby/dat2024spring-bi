{
 "cells": [
  {
   "cell_type": "markdown",
   "id": "c285a00e",
   "metadata": {},
   "source": [
    "# Rename All Files in Directory"
   ]
  },
  {
   "cell_type": "code",
   "execution_count": null,
   "id": "edf6d451",
   "metadata": {},
   "outputs": [],
   "source": [
    "import os\n",
    "from os import listdir, rename, chdir\n",
    "import os, re"
   ]
  },
  {
   "cell_type": "code",
   "execution_count": null,
   "id": "7a2d4a61",
   "metadata": {},
   "outputs": [],
   "source": [
    "# current directory\n",
    "path = os.getcwd()\n",
    "path"
   ]
  },
  {
   "cell_type": "code",
   "execution_count": null,
   "id": "6e7fb4b7",
   "metadata": {},
   "outputs": [],
   "source": [
    "# rename all files, removing the digits from their name\n",
    "def rename_files(dirname):\n",
    "    os.chdir(dirname)\n",
    "    fnames = listdir('.')\n",
    "\n",
    "    for filename in fnames:\n",
    "        newName = re.sub(r'\\d+','',filename)\n",
    "        os.rename(filename, newName)"
   ]
  },
  {
   "cell_type": "code",
   "execution_count": null,
   "id": "1c4ecd14",
   "metadata": {},
   "outputs": [],
   "source": [
    "# pass your dir name as parameter\n",
    "rename_files('../data/prank')"
   ]
  }
 ],
 "metadata": {
  "kernelspec": {
   "display_name": "Python 3 (ipykernel)",
   "language": "python",
   "name": "python3"
  },
  "language_info": {
   "codemirror_mode": {
    "name": "ipython",
    "version": 3
   },
   "file_extension": ".py",
   "mimetype": "text/x-python",
   "name": "python",
   "nbconvert_exporter": "python",
   "pygments_lexer": "ipython3",
   "version": "3.9.17"
  }
 },
 "nbformat": 4,
 "nbformat_minor": 5
}
