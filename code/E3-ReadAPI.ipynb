{
 "cells": [
  {
   "cell_type": "markdown",
   "id": "7457d4e8",
   "metadata": {},
   "source": [
    "# Read API"
   ]
  },
  {
   "cell_type": "code",
   "execution_count": 29,
   "id": "18841ae3",
   "metadata": {},
   "outputs": [
    {
     "name": "stdout",
     "output_type": "stream",
     "text": [
      "Overwriting readapi.py\n"
     ]
    }
   ],
   "source": [
    "%%writefile readapi.py\n",
    "import os\n",
    "import json\n",
    "import requests\n",
    "\n",
    "def readAPI(url, params, headers, filename):  \n",
    "    list = []\n",
    "    response = requests.get(url, params=params, headers=headers).json()\n",
    "    list.append(response)\n",
    "    \n",
    "    # save in json file        \n",
    "    with open(filename, 'w') as f:\n",
    "        json.dump(list,f,indent=4)"
   ]
  },
  {
   "cell_type": "markdown",
   "id": "4af71fa4",
   "metadata": {},
   "source": [
    "## Test"
   ]
  },
  {
   "cell_type": "code",
   "execution_count": 30,
   "id": "c7da494a",
   "metadata": {},
   "outputs": [],
   "source": [
    "import readapi\n",
    "from readapi import readAPI"
   ]
  },
  {
   "cell_type": "code",
   "execution_count": 31,
   "id": "1f7ea23e",
   "metadata": {},
   "outputs": [
    {
     "data": {
      "text/plain": [
       "<module 'readapi' from '/Users/tdi/Documents/Holodeck/Holodeck/Reader/readapi.py'>"
      ]
     },
     "execution_count": 31,
     "metadata": {},
     "output_type": "execute_result"
    }
   ],
   "source": [
    "import importlib \n",
    "importlib.reload(readapi)"
   ]
  },
  {
   "cell_type": "code",
   "execution_count": 32,
   "id": "8629e80c",
   "metadata": {},
   "outputs": [],
   "source": [
    "# Use CVR API\n",
    "# Search by CVR (vat), name (name), phone (phone) or production unit (produ) - key\n",
    "# Cphbusiness cvr(31678021)"
   ]
  },
  {
   "cell_type": "code",
   "execution_count": 33,
   "id": "a2e28bde",
   "metadata": {},
   "outputs": [],
   "source": [
    "company = \"Cphbusiness\""
   ]
  },
  {
   "cell_type": "code",
   "execution_count": 34,
   "id": "5489524f",
   "metadata": {},
   "outputs": [],
   "source": [
    "url='http://cvrapi.dk/api'  \n",
    "params = {'search':company, 'country':'DK'}\n",
    "headers = {'User-Agent': 'api reading test'}"
   ]
  },
  {
   "cell_type": "code",
   "execution_count": 35,
   "id": "e2b45352",
   "metadata": {},
   "outputs": [],
   "source": [
    "filename = '/Users/tdi/Documents/Holodeck/Holodeck/Data/apitest.json'"
   ]
  },
  {
   "cell_type": "code",
   "execution_count": 36,
   "id": "379c183c",
   "metadata": {},
   "outputs": [],
   "source": [
    "response = readAPI(url, params, headers, filename)\n",
    "response"
   ]
  },
  {
   "cell_type": "code",
   "execution_count": 11,
   "id": "d55c3419",
   "metadata": {},
   "outputs": [],
   "source": [
    "# JSON file is returned in response and stored in data dir "
   ]
  },
  {
   "cell_type": "code",
   "execution_count": null,
   "id": "d029bc70",
   "metadata": {},
   "outputs": [],
   "source": []
  }
 ],
 "metadata": {
  "kernelspec": {
   "display_name": "Python 3 (ipykernel)",
   "language": "python",
   "name": "python3"
  },
  "language_info": {
   "codemirror_mode": {
    "name": "ipython",
    "version": 3
   },
   "file_extension": ".py",
   "mimetype": "text/x-python",
   "name": "python",
   "nbconvert_exporter": "python",
   "pygments_lexer": "ipython3",
   "version": "3.11.4"
  }
 },
 "nbformat": 4,
 "nbformat_minor": 5
}
