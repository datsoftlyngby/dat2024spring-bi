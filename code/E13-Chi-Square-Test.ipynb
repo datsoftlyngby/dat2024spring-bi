{
 "cells": [
  {
   "cell_type": "markdown",
   "id": "c7892417",
   "metadata": {},
   "source": [
    "# CHI 2 Demo\n",
    "Used for testing hypotheses, based on dependency between nominal variables, or for selecting meaningful features."
   ]
  },
  {
   "cell_type": "markdown",
   "id": "72d0c982",
   "metadata": {},
   "source": [
    "## Libraries"
   ]
  },
  {
   "cell_type": "code",
   "execution_count": 71,
   "id": "df4fd0f6",
   "metadata": {},
   "outputs": [],
   "source": [
    "import numpy as np\n",
    "import pandas as pd\n",
    "import scipy.stats as stats \n",
    "from scipy.stats import chi2_contingency\n",
    "from sklearn.feature_selection import SelectKBest \n",
    "from sklearn.feature_selection import chi2 \n",
    "import matplotlib.pyplot as plt "
   ]
  },
  {
   "cell_type": "markdown",
   "id": "7b30b317",
   "metadata": {},
   "source": [
    "## 1. Hypotheses Testing"
   ]
  },
  {
   "cell_type": "markdown",
   "id": "42c23e9e",
   "metadata": {},
   "source": [
    "### Data\n",
    "Frequency distribution of the observed values of (one or) two nominal variables.<br>\n",
    "- Ho: the Y variable doesn't depend on X variable or vice versa\n",
    "- Ha: they are dependent"
   ]
  },
  {
   "cell_type": "code",
   "execution_count": null,
   "id": "5ac00052",
   "metadata": {},
   "outputs": [],
   "source": [
    "observed = np.array([[15, 6], [35, 44]])\n",
    "print(observed)"
   ]
  },
  {
   "cell_type": "code",
   "execution_count": null,
   "id": "d72d9f69",
   "metadata": {},
   "outputs": [],
   "source": [
    "stat, p, dof, expected = chi2_contingency(observed)"
   ]
  },
  {
   "attachments": {
    "image.png": {
     "image/png": "[encoded data removed]"
    }
   },
   "cell_type": "markdown",
   "id": "30b74e11",
   "metadata": {},
   "source": [
    "Expected values are calculated as ![image.png](attachment:image.png) for each cell of the table."
   ]
  },
  {
   "cell_type": "code",
   "execution_count": null,
   "id": "0f19ee5f",
   "metadata": {},
   "outputs": [],
   "source": [
    "print(expected)"
   ]
  },
  {
   "cell_type": "code",
   "execution_count": null,
   "id": "2578f689",
   "metadata": {},
   "outputs": [],
   "source": [
    "# Degrees of freedom are calculates as (rows-1)(cols-1)\n",
    "dof"
   ]
  },
  {
   "attachments": {
    "image.png": {
     "image/png": "[encoded data removed]"
    }
   },
   "cell_type": "markdown",
   "id": "5771984d",
   "metadata": {},
   "source": [
    "Chi2 (stat) is calculated as a sum of ![image.png](attachment:image.png) for each table cell."
   ]
  },
  {
   "cell_type": "code",
   "execution_count": null,
   "id": "7366f4ce",
   "metadata": {},
   "outputs": [],
   "source": [
    "print(stat)"
   ]
  },
  {
   "cell_type": "code",
   "execution_count": null,
   "id": "95a4d51e",
   "metadata": {},
   "outputs": [],
   "source": [
    "# p is taken froma a table, dof and alpha are input parameters \n",
    "alpha = 0.05\n",
    "p"
   ]
  },
  {
   "cell_type": "code",
   "execution_count": null,
   "id": "905581c9",
   "metadata": {},
   "outputs": [],
   "source": [
    "# interpret p-value\n",
    "if p <= alpha:\n",
    "    print('variables are dependent, reject Ho')\n",
    "else:\n",
    "    print('Variables are independent, Ho holds true)')"
   ]
  },
  {
   "cell_type": "markdown",
   "id": "f74ceba7",
   "metadata": {},
   "source": [
    "### Visualisation"
   ]
  },
  {
   "cell_type": "code",
   "execution_count": null,
   "id": "d8c94816",
   "metadata": {},
   "outputs": [],
   "source": [
    "# dof=2"
   ]
  },
  {
   "cell_type": "code",
   "execution_count": null,
   "id": "658626c3",
   "metadata": {},
   "outputs": [],
   "source": [
    "critical_value = stats.chi2.ppf(1 - alpha, dof) \n",
    "critical_value"
   ]
  },
  {
   "cell_type": "code",
   "execution_count": null,
   "id": "1559ba1a",
   "metadata": {},
   "outputs": [],
   "source": [
    "calculated_chi_square = stat\n",
    "calculated_chi_square"
   ]
  },
  {
   "cell_type": "code",
   "execution_count": null,
   "id": "edff6995",
   "metadata": {},
   "outputs": [],
   "source": [
    "# Generate values for the chi-square distribution \n",
    "x = np.linspace(0, 10, 1000) \n",
    "y = stats.chi2.pdf(x, dof) \n",
    "  \n",
    "plt.plot(x, y, label='Chi-Square Distribution (dof=1)') \n",
    "plt.fill_between(x, y, where=(x > critical_value), color='red', alpha=0.5, label='Critical Region') \n",
    "plt.axvline(calculated_chi_square, color='blue', linestyle='dashed', label='Calculated Chi-Square') \n",
    "plt.axvline(critical_value, color='green', linestyle='dashed', label='Critical Value') \n",
    "plt.title('Chi-Square Distribution and Critical Region') \n",
    "plt.xlabel('Chi-Square Value') \n",
    "plt.ylabel('Probability Density Function') \n",
    "plt.legend() \n",
    "plt.show() "
   ]
  },
  {
   "cell_type": "markdown",
   "id": "d78e75c9",
   "metadata": {},
   "source": [
    "## 2. Feature Engineering"
   ]
  },
  {
   "cell_type": "markdown",
   "id": "7ed0d9f7",
   "metadata": {},
   "source": [
    "### Data\n",
    "Labeled test data"
   ]
  },
  {
   "cell_type": "code",
   "execution_count": 60,
   "id": "cce38737",
   "metadata": {},
   "outputs": [],
   "source": [
    "data = np.array([\n",
    "[5.1, 3.5, 1.4, 0.2, 0],\n",
    "[4.9, 3.0, 1.4, 0.3, 0],\n",
    "[4.7, 3.2, 1.3, 0.2, 1],\n",
    "[4.6, 3.1, 1.5, 0.1, 1],\n",
    "[5.0, 3.6, 1.4, 0.2, 0]])"
   ]
  },
  {
   "cell_type": "code",
   "execution_count": 61,
   "id": "09e826ee",
   "metadata": {},
   "outputs": [
    {
     "name": "stdout",
     "output_type": "stream",
     "text": [
      "[[5.1 3.5 1.4 0.2 0. ]\n",
      " [4.9 3.  1.4 0.3 0. ]\n",
      " [4.7 3.2 1.3 0.2 1. ]\n",
      " [4.6 3.1 1.5 0.1 1. ]\n",
      " [5.  3.6 1.4 0.2 0. ]]\n"
     ]
    }
   ],
   "source": [
    "print(data)"
   ]
  },
  {
   "cell_type": "code",
   "execution_count": 62,
   "id": "cceb9c05",
   "metadata": {},
   "outputs": [
    {
     "data": {
      "text/plain": [
       "array([[5.1, 3.5, 1.4, 0.2],\n",
       "       [4.9, 3. , 1.4, 0.3],\n",
       "       [4.7, 3.2, 1.3, 0.2],\n",
       "       [4.6, 3.1, 1.5, 0.1],\n",
       "       [5. , 3.6, 1.4, 0.2]])"
      ]
     },
     "execution_count": 62,
     "metadata": {},
     "output_type": "execute_result"
    }
   ],
   "source": [
    "X = data[:,:-1]\n",
    "X"
   ]
  },
  {
   "cell_type": "code",
   "execution_count": 63,
   "id": "0040d9f3",
   "metadata": {},
   "outputs": [
    {
     "data": {
      "text/plain": [
       "array([0., 0., 1., 1., 0.])"
      ]
     },
     "execution_count": 63,
     "metadata": {},
     "output_type": "execute_result"
    }
   ],
   "source": [
    "y = data[:,-1]\n",
    "y"
   ]
  },
  {
   "cell_type": "code",
   "execution_count": 64,
   "id": "1726073c",
   "metadata": {},
   "outputs": [],
   "source": [
    "# convert to dataframe\n",
    "df = pd.DataFrame(data)"
   ]
  },
  {
   "cell_type": "code",
   "execution_count": 67,
   "id": "9f5ff2cb",
   "metadata": {},
   "outputs": [
    {
     "data": {
      "text/html": [
       "<div>\n",
       "<style scoped>\n",
       "    .dataframe tbody tr th:only-of-type {\n",
       "        vertical-align: middle;\n",
       "    }\n",
       "\n",
       "    .dataframe tbody tr th {\n",
       "        vertical-align: top;\n",
       "    }\n",
       "\n",
       "    .dataframe thead th {\n",
       "        text-align: right;\n",
       "    }\n",
       "</style>\n",
       "<table border=\"1\" class=\"dataframe\">\n",
       "  <thead>\n",
       "    <tr style=\"text-align: right;\">\n",
       "      <th></th>\n",
       "      <th>feature_1</th>\n",
       "      <th>feature_2</th>\n",
       "      <th>feature_3</th>\n",
       "      <th>feature_4</th>\n",
       "      <th>target</th>\n",
       "    </tr>\n",
       "  </thead>\n",
       "  <tbody>\n",
       "    <tr>\n",
       "      <th>0</th>\n",
       "      <td>5.1</td>\n",
       "      <td>3.5</td>\n",
       "      <td>1.4</td>\n",
       "      <td>0.2</td>\n",
       "      <td>0.0</td>\n",
       "    </tr>\n",
       "    <tr>\n",
       "      <th>1</th>\n",
       "      <td>4.9</td>\n",
       "      <td>3.0</td>\n",
       "      <td>1.4</td>\n",
       "      <td>0.3</td>\n",
       "      <td>0.0</td>\n",
       "    </tr>\n",
       "    <tr>\n",
       "      <th>2</th>\n",
       "      <td>4.7</td>\n",
       "      <td>3.2</td>\n",
       "      <td>1.3</td>\n",
       "      <td>0.2</td>\n",
       "      <td>1.0</td>\n",
       "    </tr>\n",
       "    <tr>\n",
       "      <th>3</th>\n",
       "      <td>4.6</td>\n",
       "      <td>3.1</td>\n",
       "      <td>1.5</td>\n",
       "      <td>0.1</td>\n",
       "      <td>1.0</td>\n",
       "    </tr>\n",
       "    <tr>\n",
       "      <th>4</th>\n",
       "      <td>5.0</td>\n",
       "      <td>3.6</td>\n",
       "      <td>1.4</td>\n",
       "      <td>0.2</td>\n",
       "      <td>0.0</td>\n",
       "    </tr>\n",
       "  </tbody>\n",
       "</table>\n",
       "</div>"
      ],
      "text/plain": [
       "   feature_1  feature_2  feature_3  feature_4  target\n",
       "0        5.1        3.5        1.4        0.2     0.0\n",
       "1        4.9        3.0        1.4        0.3     0.0\n",
       "2        4.7        3.2        1.3        0.2     1.0\n",
       "3        4.6        3.1        1.5        0.1     1.0\n",
       "4        5.0        3.6        1.4        0.2     0.0"
      ]
     },
     "execution_count": 67,
     "metadata": {},
     "output_type": "execute_result"
    }
   ],
   "source": [
    "df.columns = ['feature_1', 'feature_2',  'feature_3',  'feature_4',  'target']\n",
    "df"
   ]
  },
  {
   "cell_type": "code",
   "execution_count": 68,
   "id": "aa782b52",
   "metadata": {},
   "outputs": [],
   "source": [
    "# number of features to select\n",
    "k = 2"
   ]
  },
  {
   "cell_type": "code",
   "execution_count": 78,
   "id": "04c9e0cf",
   "metadata": {},
   "outputs": [
    {
     "data": {
      "text/plain": [
       "array([ True, False, False,  True])"
      ]
     },
     "execution_count": 78,
     "metadata": {},
     "output_type": "execute_result"
    }
   ],
   "source": [
    "# Chi-2 feature selection of top k features  \n",
    "chi2_selector = SelectKBest(chi2, k=k) \n",
    "X_selected = chi2_selector.fit_transform(X, y) \n",
    "col_selected = chi2_selector.get_support()\n",
    "col_selected"
   ]
  },
  {
   "cell_type": "code",
   "execution_count": 79,
   "id": "fffcd2b4",
   "metadata": {},
   "outputs": [
    {
     "name": "stdout",
     "output_type": "stream",
     "text": [
      "Index(['feature_1', 'feature_4'], dtype='object')\n"
     ]
    }
   ],
   "source": [
    "print(df.columns[:-1][cols_selected])"
   ]
  },
  {
   "cell_type": "code",
   "execution_count": 80,
   "id": "9d97d202",
   "metadata": {},
   "outputs": [
    {
     "data": {
      "text/plain": [
       "array([[5.1, 0.2],\n",
       "       [4.9, 0.3],\n",
       "       [4.7, 0.2],\n",
       "       [4.6, 0.1],\n",
       "       [5. , 0.2]])"
      ]
     },
     "execution_count": 80,
     "metadata": {},
     "output_type": "execute_result"
    }
   ],
   "source": [
    "X_selected"
   ]
  },
  {
   "cell_type": "markdown",
   "id": "89c4f2af",
   "metadata": {},
   "source": [
    "## Reference"
   ]
  },
  {
   "cell_type": "markdown",
   "id": "badeef82",
   "metadata": {},
   "source": [
    "Chi-square test in Machine Learning, https://www.geeksforgeeks.org/ml-chi-square-test-for-feature-selection/"
   ]
  },
  {
   "cell_type": "code",
   "execution_count": null,
   "id": "7cb77d73",
   "metadata": {},
   "outputs": [],
   "source": []
  }
 ],
 "metadata": {
  "kernelspec": {
   "display_name": "Python 3 (ipykernel)",
   "language": "python",
   "name": "python3"
  },
  "language_info": {
   "codemirror_mode": {
    "name": "ipython",
    "version": 3
   },
   "file_extension": ".py",
   "mimetype": "text/x-python",
   "name": "python",
   "nbconvert_exporter": "python",
   "pygments_lexer": "ipython3",
   "version": "3.11.4"
  }
 },
 "nbformat": 4,
 "nbformat_minor": 5
}
