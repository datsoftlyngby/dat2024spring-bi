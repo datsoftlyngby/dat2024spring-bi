{
 "cells": [
  {
   "cell_type": "markdown",
   "id": "0914bf7f",
   "metadata": {},
   "source": [
    "# Data Visualisation in Python"
   ]
  },
  {
   "cell_type": "markdown",
   "id": "c7454250",
   "metadata": {},
   "source": [
    "## Import Necessary Libraries"
   ]
  },
  {
   "cell_type": "code",
   "execution_count": null,
   "id": "f8631ce7",
   "metadata": {},
   "outputs": [],
   "source": [
    "#! pip install plotly"
   ]
  },
  {
   "cell_type": "code",
   "execution_count": null,
   "id": "e8cdb129",
   "metadata": {},
   "outputs": [],
   "source": [
    "#! pip install folium"
   ]
  },
  {
   "cell_type": "code",
   "execution_count": null,
   "id": "68c9441b",
   "metadata": {},
   "outputs": [],
   "source": [
    "# for data \n",
    "import pandas as pd\n",
    "# for scientific computation\n",
    "import numpy as np"
   ]
  },
  {
   "cell_type": "code",
   "execution_count": null,
   "id": "4198d90d",
   "metadata": {},
   "outputs": [],
   "source": [
    "# for visualisation\n",
    "import matplotlib.pyplot as plt\n",
    "import seaborn as sns\n",
    "import plotly.express as px\n",
    "import plotly.graph_objects as go\n",
    "import plotly.figure_factory as ff\n",
    "import plotly.io as pio"
   ]
  },
  {
   "cell_type": "code",
   "execution_count": null,
   "id": "90c430ec",
   "metadata": {},
   "outputs": [],
   "source": [
    "import folium"
   ]
  },
  {
   "cell_type": "markdown",
   "id": "8a564900",
   "metadata": {},
   "source": [
    "## Data Preparation"
   ]
  },
  {
   "cell_type": "markdown",
   "id": "3c5efc96",
   "metadata": {},
   "source": [
    "### Read Data"
   ]
  },
  {
   "cell_type": "code",
   "execution_count": null,
   "id": "64b640c3",
   "metadata": {},
   "outputs": [],
   "source": [
    "# read the data\n",
    "df = pd.read_csv(\"../../Data/Meteorite_Landings_20240212.csv\", sep = ',')"
   ]
  },
  {
   "cell_type": "code",
   "execution_count": null,
   "id": "1d2f843b",
   "metadata": {},
   "outputs": [],
   "source": [
    "df.shape"
   ]
  },
  {
   "cell_type": "code",
   "execution_count": null,
   "id": "372c7ace",
   "metadata": {
    "_uuid": "2c69cc62eb545d1da46102e67852a72c97a794d1"
   },
   "outputs": [],
   "source": [
    "# get idea of the look\n",
    "df.sample(10)"
   ]
  },
  {
   "cell_type": "markdown",
   "id": "cec9880e",
   "metadata": {},
   "source": [
    "### Analytical Exploration"
   ]
  },
  {
   "cell_type": "code",
   "execution_count": null,
   "id": "5c5dc045",
   "metadata": {},
   "outputs": [],
   "source": [
    "# get idea of columns and types\n",
    "df.info()"
   ]
  },
  {
   "cell_type": "code",
   "execution_count": null,
   "id": "1dac1f24",
   "metadata": {},
   "outputs": [],
   "source": [
    "df.describe()"
   ]
  },
  {
   "cell_type": "code",
   "execution_count": null,
   "id": "6de4b3b8",
   "metadata": {},
   "outputs": [],
   "source": [
    "# change the format to avoid scientific notation, e.g. e+04\n",
    "pd.set_option('display.float_format', lambda x: '%.3f' % x)"
   ]
  },
  {
   "cell_type": "code",
   "execution_count": null,
   "id": "dcf3875c",
   "metadata": {},
   "outputs": [],
   "source": [
    "df['year'] = df['year'].astype(int)"
   ]
  },
  {
   "cell_type": "code",
   "execution_count": null,
   "id": "9a0b54e7",
   "metadata": {},
   "outputs": [],
   "source": [
    "# see which are the attribute labels\n",
    "list(df)"
   ]
  },
  {
   "cell_type": "code",
   "execution_count": null,
   "id": "39444112",
   "metadata": {},
   "outputs": [],
   "source": [
    "# to check null values in data\n",
    "df.isnull().sum()"
   ]
  },
  {
   "cell_type": "code",
   "execution_count": null,
   "id": "6eccfaf0",
   "metadata": {},
   "outputs": [],
   "source": [
    "# delete rows with unknown year\n",
    "df.dropna(subset=['year'], inplace=True)"
   ]
  },
  {
   "cell_type": "code",
   "execution_count": null,
   "id": "86587f0f",
   "metadata": {},
   "outputs": [],
   "source": [
    "# replace the missing mass with avarage\n",
    "mass_mean = df['mass (g)'].mean()\n",
    "df['mass (g)'].fillna(int(mass_mean), inplace=True)"
   ]
  },
  {
   "cell_type": "code",
   "execution_count": null,
   "id": "884c01eb",
   "metadata": {},
   "outputs": [],
   "source": [
    "# check observation types\n",
    "nametype_group = df.groupby(by='nametype').size()\n",
    "nametype_group"
   ]
  },
  {
   "cell_type": "code",
   "execution_count": null,
   "id": "8594d49f",
   "metadata": {},
   "outputs": [],
   "source": [
    "# relic only\n",
    "dfr = df[df['nametype'] == 'Relict']"
   ]
  },
  {
   "cell_type": "code",
   "execution_count": null,
   "id": "c070d7e0",
   "metadata": {},
   "outputs": [],
   "source": [
    "dfr.describe()"
   ]
  },
  {
   "cell_type": "code",
   "execution_count": null,
   "id": "e9cd1e20",
   "metadata": {},
   "outputs": [],
   "source": [
    "# valid only\n",
    "dfv = df[df['nametype'] == 'Valid']"
   ]
  },
  {
   "cell_type": "code",
   "execution_count": null,
   "id": "755150d6",
   "metadata": {},
   "outputs": [],
   "source": [
    "dfv.describe()"
   ]
  },
  {
   "cell_type": "code",
   "execution_count": null,
   "id": "2ca1d9a0",
   "metadata": {},
   "outputs": [],
   "source": [
    "df.recclass.unique().tolist()"
   ]
  },
  {
   "cell_type": "code",
   "execution_count": null,
   "id": "334dfc7a",
   "metadata": {},
   "outputs": [],
   "source": [
    "recclass_group = df.groupby(by = 'recclass').size()\n",
    "recclass_group"
   ]
  },
  {
   "cell_type": "markdown",
   "id": "37238d19",
   "metadata": {},
   "source": [
    "### Visual Exploration"
   ]
  },
  {
   "cell_type": "code",
   "execution_count": null,
   "id": "bda60cf4",
   "metadata": {
    "scrolled": true
   },
   "outputs": [],
   "source": [
    "#create histogram to visualize values in dataset\n",
    "df.hist()"
   ]
  },
  {
   "cell_type": "code",
   "execution_count": null,
   "id": "62279c15",
   "metadata": {},
   "outputs": [],
   "source": [
    "# plot all observations to discover outliers\n",
    "df.plot.scatter(x='year', y='mass (g)', c='year', colormap='viridis')"
   ]
  },
  {
   "cell_type": "code",
   "execution_count": null,
   "id": "9993675b",
   "metadata": {},
   "outputs": [],
   "source": [
    "# z-score filter of outliers: (z-score < 3*std) in a column\n",
    "from scipy import stats\n",
    "dfny = df[np.abs(stats.zscore(df['year'])) < 3.5]\n",
    "dfnm = dfny[np.abs(stats.zscore(df['mass (g)'])) < 3.5]\n",
    "dfnm.plot.scatter(x='year', y='mass (g)', c='year', colormap='viridis')"
   ]
  },
  {
   "cell_type": "code",
   "execution_count": null,
   "id": "d7967130",
   "metadata": {},
   "outputs": [],
   "source": [
    "# visualise the features and the response using scatterplots\n",
    "sns.pairplot(dfnm, x_vars=['year', 'recclass'], y_vars='mass (g)', height=5, aspect=0.8)"
   ]
  },
  {
   "cell_type": "code",
   "execution_count": null,
   "id": "497f62ca",
   "metadata": {},
   "outputs": [],
   "source": [
    "# compare in box-plot\n",
    "ax = df.boxplot(by='nametype', column='mass (g)', figsize=(4, 4))\n",
    "ax.set_xlabel('Class')\n",
    "ax.set_ylabel('Mass (g)')\n",
    "plt.suptitle('')\n",
    "plt.title('')\n",
    "\n",
    "plt.tight_layout()\n",
    "plt.show()"
   ]
  },
  {
   "cell_type": "code",
   "execution_count": null,
   "id": "8b06a215",
   "metadata": {},
   "outputs": [],
   "source": [
    "%matplotlib inline\n",
    "nametype_group.plot.bar()"
   ]
  },
  {
   "cell_type": "markdown",
   "id": "6916cdba",
   "metadata": {},
   "source": [
    "### Interactive 3D Visualisation with Plotly"
   ]
  },
  {
   "cell_type": "code",
   "execution_count": null,
   "id": "ddcc4bf2",
   "metadata": {
    "scrolled": true
   },
   "outputs": [],
   "source": [
    "# line chart\n",
    "fig = px.line(x=[1,2, 3], y=[1, 2, 3]) \n",
    " \n",
    "# showing the plot\n",
    "fig.show()"
   ]
  },
  {
   "cell_type": "code",
   "execution_count": null,
   "id": "9c12f874",
   "metadata": {},
   "outputs": [],
   "source": [
    "fig = px.line_3d(x=[1, 2, 3, 4, 5, 6], y=[6, 5, 4, 3, 2, 1], z=[1, 2, 3, 1, 2, 3]) \n",
    "fig.show()"
   ]
  },
  {
   "cell_type": "code",
   "execution_count": null,
   "id": "5b1425c3",
   "metadata": {},
   "outputs": [],
   "source": [
    "# 3D scatter plot\n",
    "fig = px.scatter_3d(dfnm, x=\"year\", y=\"mass (g)\", z='recclass', color=\"year\", size='mass (g)', size_max=40, opacity=0.8)\n",
    "fig.show()"
   ]
  },
  {
   "cell_type": "code",
   "execution_count": null,
   "id": "cee8f663",
   "metadata": {},
   "outputs": [],
   "source": [
    "# bar chart\n",
    "fig = px.bar(dfnm, x=\"year\", y=\"mass (g)\", color = 'year') \n",
    "fig.show()"
   ]
  },
  {
   "cell_type": "code",
   "execution_count": null,
   "id": "8c4c77f4",
   "metadata": {},
   "outputs": [],
   "source": [
    "# pie chart\n",
    "x=[[1, 2, 3, 4, 5], ['a', 'b', 'c', 'd', 'e']]\n",
    "\n",
    "fig = px.pie(x, values = x[0], names = x[1]) \n",
    "fig.show()"
   ]
  },
  {
   "cell_type": "code",
   "execution_count": null,
   "id": "da1d7955",
   "metadata": {},
   "outputs": [],
   "source": [
    "import plotly.graph_objects as go \n",
    "import numpy as np \n",
    " \n",
    "# Data to be plotted\n",
    "x = np.outer(np.linspace(-2, 2, 30), np.ones(30)) \n",
    "y = x.copy().T \n",
    "z = np.cos(x ** 2 + y ** 2) \n",
    " \n",
    "# plotting the figure\n",
    "fig = go.Figure(data=[go.Surface(x=x, y=y, z=z)]) \n",
    " \n",
    "fig.show()"
   ]
  },
  {
   "cell_type": "markdown",
   "id": "777761e8",
   "metadata": {},
   "source": [
    "### Visualise Geodata with Folium"
   ]
  },
  {
   "cell_type": "code",
   "execution_count": null,
   "id": "0083a593",
   "metadata": {},
   "outputs": [],
   "source": [
    "dfnm.shape"
   ]
  },
  {
   "cell_type": "code",
   "execution_count": null,
   "id": "cb6da9ff",
   "metadata": {},
   "outputs": [],
   "source": [
    "dfnm.isnull().sum()"
   ]
  },
  {
   "cell_type": "code",
   "execution_count": null,
   "id": "1ac7f9d1",
   "metadata": {},
   "outputs": [],
   "source": [
    "subset = ['reclat','reclong']\n",
    "dfnm.dropna(subset = subset, inplace=True)"
   ]
  },
  {
   "cell_type": "code",
   "execution_count": null,
   "id": "d7186371",
   "metadata": {},
   "outputs": [],
   "source": [
    "dfnm.shape"
   ]
  },
  {
   "cell_type": "code",
   "execution_count": null,
   "id": "eaaf482f",
   "metadata": {},
   "outputs": [],
   "source": [
    "dfnm.sample(10)"
   ]
  },
  {
   "cell_type": "code",
   "execution_count": null,
   "id": "28f0a2f3",
   "metadata": {},
   "outputs": [],
   "source": [
    "# build a map\n",
    "# center = folium.Marker([55.6819, 12.5627], popup=\"Cphbusiness-Lyngby\", tooltip=\"new building\")\n",
    "fmap = folium.Map(location = [55.6819, 12.5627], zoom_start = 3)"
   ]
  },
  {
   "cell_type": "code",
   "execution_count": null,
   "id": "fa37e0ec",
   "metadata": {},
   "outputs": [],
   "source": [
    "# add countries\n",
    "political_countries_url = (\"http://geojson.xyz/naturalearth-3.3.0/ne_50m_admin_0_countries.geojson\")\n",
    "folium.GeoJson(political_countries_url).add_to(fmap)"
   ]
  },
  {
   "cell_type": "code",
   "execution_count": null,
   "id": "6910333d",
   "metadata": {},
   "outputs": [],
   "source": [
    "fmap"
   ]
  },
  {
   "cell_type": "code",
   "execution_count": null,
   "id": "3b177f84",
   "metadata": {},
   "outputs": [],
   "source": [
    "# add markers for the meteorites\n",
    "for index, row in dfnm.iloc[:100].iterrows():\n",
    "    marker = ''\n",
    "    loc = row['reclat'], row['reclong'] \n",
    "    pop = str(int(row['year']))\n",
    "    marker = folium.Marker(location=loc, popup=pop, \n",
    "                           tooltip = \"Click me!\", icon = folium.Icon(color=\"green\", icon='flag'))\n",
    "    marker.add_to(fmap)"
   ]
  },
  {
   "cell_type": "code",
   "execution_count": null,
   "id": "6e164721",
   "metadata": {
    "scrolled": true
   },
   "outputs": [],
   "source": [
    "fmap"
   ]
  },
  {
   "cell_type": "code",
   "execution_count": null,
   "id": "16967784",
   "metadata": {},
   "outputs": [],
   "source": [
    "fmap.add_child(folium.LatLngPopup())"
   ]
  },
  {
   "cell_type": "code",
   "execution_count": null,
   "id": "2c1c2634",
   "metadata": {},
   "outputs": [],
   "source": [
    "# add one more layer\n",
    "folium.TileLayer('openstreetmap').add_to(fmap)"
   ]
  },
  {
   "cell_type": "code",
   "execution_count": null,
   "id": "206480cc",
   "metadata": {},
   "outputs": [],
   "source": [
    "folium.LayerControl().add_to(fmap)"
   ]
  },
  {
   "cell_type": "code",
   "execution_count": null,
   "id": "44f36fd1",
   "metadata": {},
   "outputs": [],
   "source": [
    "fmap.save(\"../data/meteorit.html\")"
   ]
  },
  {
   "cell_type": "code",
   "execution_count": null,
   "id": "48e68d8a",
   "metadata": {
    "scrolled": true
   },
   "outputs": [],
   "source": [
    "fmap"
   ]
  },
  {
   "cell_type": "code",
   "execution_count": null,
   "id": "a960bf39",
   "metadata": {},
   "outputs": [],
   "source": []
  },
  {
   "cell_type": "markdown",
   "id": "7542fc7b",
   "metadata": {},
   "source": [
    "## See More\n",
    "- https://plotly.com\n",
    "- https://darigak.medium.com/your-guide-to-folium-markers-b9324fc7d65d\n",
    "- https://deparkes.co.uk/2016/06/10/folium-map-tiles/"
   ]
  },
  {
   "cell_type": "markdown",
   "id": "83e9a93d",
   "metadata": {},
   "source": [
    "### Try various formatting parameters"
   ]
  },
  {
   "cell_type": "code",
   "execution_count": null,
   "id": "2635168a",
   "metadata": {},
   "outputs": [],
   "source": []
  }
 ],
 "metadata": {
  "kernelspec": {
   "display_name": "Python 3 (ipykernel)",
   "language": "python",
   "name": "python3"
  },
  "language_info": {
   "codemirror_mode": {
    "name": "ipython",
    "version": 3
   },
   "file_extension": ".py",
   "mimetype": "text/x-python",
   "name": "python",
   "nbconvert_exporter": "python",
   "pygments_lexer": "ipython3",
   "version": "3.11.4"
  }
 },
 "nbformat": 4,
 "nbformat_minor": 5
}
