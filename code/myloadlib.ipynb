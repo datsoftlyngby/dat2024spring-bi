{
 "cells": [
  {
   "cell_type": "code",
   "execution_count": 11,
   "id": "0a1bd4d4",
   "metadata": {},
   "outputs": [
    {
     "name": "stdout",
     "output_type": "stream",
     "text": [
      "Overwriting myloadlib.py\n"
     ]
    }
   ],
   "source": [
    "%%writefile myloadlib.py\n",
    "import os\n",
    "from typing import List\n",
    "\n",
    "# LangChain Document readers\n",
    "from langchain.document_loaders import WikipediaLoader\n",
    "from langchain.document_loaders import YoutubeLoader\n",
    "from langchain.document_loaders import PyPDFLoader\n",
    "from langchain.document_loaders import Docx2txtLoader\n",
    "from langchain.document_loaders import TextLoader\n",
    "from langchain.document_loaders import DirectoryLoader\n",
    "# from langchain.document_loaders.blob_loaders.youtube_audio import YoutubeAudioLoader\n",
    "\n",
    "# Load Entire Dir\n",
    "def loadDir(path, filetype='*')->List:    \n",
    "    loader = DirectoryLoader(path, glob=\"**/*.\" + filetype, show_progress=True)\n",
    "    docs = loader.load()\n",
    "    return docs\n",
    "\n",
    "\n",
    "# Load Single Files\n",
    "def loadFile(file) -> List:\n",
    "    if file.endswith(\".pdf\"):\n",
    "        loader = PyPDFLoader(file)\n",
    "    elif file.endswith('.docx') or file.endswith('.doc'):\n",
    "        loader = Docx2txtLoader(file)\n",
    "    elif file.endswith('.txt'):\n",
    "        loader = TextLoader(file)\n",
    "    docs = loader.load()\n",
    "    return docs\n",
    "\n",
    "\n",
    "# Load Wiki\n",
    "def loadWiki(query, lang, n) -> List:\n",
    "    loader = WikipediaLoader(query=query, lang=lang, load_max_docs=n)\n",
    "    docs = loader.load()\n",
    "    return docs\n",
    "\n",
    "\n",
    "# Load Youtube\n",
    "def loadYoutube(url, lang) -> List:\n",
    "    loader = YoutubeLoader.from_youtube_url(url, add_video_info=True, language = lang, translation = lang)\n",
    "    docs = loader.load()\n",
    "    return docs\n",
    "\n",
    "\n",
    "# Read API\n",
    "def readAPI(url, params, headers, filename):  \n",
    "    import json\n",
    "    import requests\n",
    "    list = []\n",
    "    response = requests.get(url, params=params, headers=headers).json()\n",
    "    list.append(response)\n",
    "    \n",
    "    # save in json file        \n",
    "    with open(filename, 'w') as f:\n",
    "        json.dump(list,f, indent=4)"
   ]
  },
  {
   "cell_type": "code",
   "execution_count": null,
   "id": "f3f84771",
   "metadata": {},
   "outputs": [],
   "source": []
  },
  {
   "cell_type": "code",
   "execution_count": null,
   "id": "f4c15eb0",
   "metadata": {},
   "outputs": [],
   "source": []
  }
 ],
 "metadata": {
  "kernelspec": {
   "display_name": "Python 3 (ipykernel)",
   "language": "python",
   "name": "python3"
  },
  "language_info": {
   "codemirror_mode": {
    "name": "ipython",
    "version": 3
   },
   "file_extension": ".py",
   "mimetype": "text/x-python",
   "name": "python",
   "nbconvert_exporter": "python",
   "pygments_lexer": "ipython3",
   "version": "3.11.4"
  }
 },
 "nbformat": 4,
 "nbformat_minor": 5
}
