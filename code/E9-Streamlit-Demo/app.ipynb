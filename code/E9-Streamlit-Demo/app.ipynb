{
 "cells": [
  {
   "cell_type": "markdown",
   "id": "79f2eb43",
   "metadata": {},
   "source": [
    "# Streamlit Demo"
   ]
  },
  {
   "cell_type": "code",
   "execution_count": null,
   "id": "ae1a50b8",
   "metadata": {},
   "outputs": [],
   "source": [
    "!pip install streamlit"
   ]
  },
  {
   "cell_type": "code",
   "execution_count": 4,
   "id": "49fa8e5f",
   "metadata": {
    "scrolled": true
   },
   "outputs": [
    {
     "name": "stdout",
     "output_type": "stream",
     "text": [
      "\u001b[33mWARNING: Static file serving is enabled, but no static folder found at /Users/tdi/anaconda3/lib/python3.11/site-packages/streamlit/hello/static. To disable static file serving, set server.enableStaticServing to false.\u001b[0m\n",
      "\u001b[0m\n",
      "\u001b[34m\u001b[1m  Welcome to Streamlit. Check out our demo in your browser.\u001b[0m\n",
      "\u001b[0m\n",
      "\u001b[34m  Local URL: \u001b[0m\u001b[1mhttps://localhost:8502\u001b[0m\n",
      "\u001b[34m  Network URL: \u001b[0m\u001b[1mhttps://192.168.0.219:8502\u001b[0m\n",
      "\u001b[0m\n",
      "  Ready to create your own Python apps super quickly?\u001b[0m\n",
      "  Head over to \u001b[0m\u001b[1mhttps://docs.streamlit.io\u001b[0m\n",
      "\u001b[0m\n",
      "  May you create awesome apps!\u001b[0m\n",
      "\u001b[0m\n",
      "\u001b[0m\n",
      "^C\n",
      "\u001b[34m  Stopping...\u001b[0m\n"
     ]
    }
   ],
   "source": [
    "!streamlit hello"
   ]
  },
  {
   "cell_type": "code",
   "execution_count": 2,
   "id": "5b7a59af",
   "metadata": {},
   "outputs": [
    {
     "name": "stdout",
     "output_type": "stream",
     "text": [
      "Collecting sweetviz\n",
      "  Obtaining dependency information for sweetviz from https://files.pythonhosted.org/packages/89/50/8d3f7ca820267a38b42c64778db0f186d85cec6e3f0c5210eab9c16e783f/sweetviz-2.3.1-py3-none-any.whl.metadata\n",
      "  Downloading sweetviz-2.3.1-py3-none-any.whl.metadata (24 kB)\n",
      "Requirement already satisfied: pandas!=1.0.0,!=1.0.1,!=1.0.2,>=0.25.3 in /Users/tdi/anaconda3/lib/python3.11/site-packages (from sweetviz) (1.5.3)\n",
      "Requirement already satisfied: numpy>=1.16.0 in /Users/tdi/anaconda3/lib/python3.11/site-packages (from sweetviz) (1.24.3)\n",
      "Requirement already satisfied: matplotlib>=3.1.3 in /Users/tdi/anaconda3/lib/python3.11/site-packages (from sweetviz) (3.7.1)\n",
      "Requirement already satisfied: tqdm>=4.43.0 in /Users/tdi/anaconda3/lib/python3.11/site-packages (from sweetviz) (4.65.0)\n",
      "Requirement already satisfied: scipy>=1.3.2 in /Users/tdi/anaconda3/lib/python3.11/site-packages (from sweetviz) (1.10.1)\n",
      "Requirement already satisfied: jinja2>=2.11.1 in /Users/tdi/anaconda3/lib/python3.11/site-packages (from sweetviz) (3.1.2)\n",
      "Requirement already satisfied: importlib-resources>=1.2.0 in /Users/tdi/anaconda3/lib/python3.11/site-packages (from sweetviz) (6.1.0)\n",
      "Requirement already satisfied: MarkupSafe>=2.0 in /Users/tdi/anaconda3/lib/python3.11/site-packages (from jinja2>=2.11.1->sweetviz) (2.1.1)\n",
      "Requirement already satisfied: contourpy>=1.0.1 in /Users/tdi/anaconda3/lib/python3.11/site-packages (from matplotlib>=3.1.3->sweetviz) (1.0.5)\n",
      "Requirement already satisfied: cycler>=0.10 in /Users/tdi/anaconda3/lib/python3.11/site-packages (from matplotlib>=3.1.3->sweetviz) (0.11.0)\n",
      "Requirement already satisfied: fonttools>=4.22.0 in /Users/tdi/anaconda3/lib/python3.11/site-packages (from matplotlib>=3.1.3->sweetviz) (4.25.0)\n",
      "Requirement already satisfied: kiwisolver>=1.0.1 in /Users/tdi/anaconda3/lib/python3.11/site-packages (from matplotlib>=3.1.3->sweetviz) (1.4.4)\n",
      "Requirement already satisfied: packaging>=20.0 in /Users/tdi/anaconda3/lib/python3.11/site-packages (from matplotlib>=3.1.3->sweetviz) (23.0)\n",
      "Requirement already satisfied: pillow>=6.2.0 in /Users/tdi/anaconda3/lib/python3.11/site-packages (from matplotlib>=3.1.3->sweetviz) (9.4.0)\n",
      "Requirement already satisfied: pyparsing>=2.3.1 in /Users/tdi/anaconda3/lib/python3.11/site-packages (from matplotlib>=3.1.3->sweetviz) (3.0.9)\n",
      "Requirement already satisfied: python-dateutil>=2.7 in /Users/tdi/anaconda3/lib/python3.11/site-packages (from matplotlib>=3.1.3->sweetviz) (2.8.2)\n",
      "Requirement already satisfied: pytz>=2020.1 in /Users/tdi/anaconda3/lib/python3.11/site-packages (from pandas!=1.0.0,!=1.0.1,!=1.0.2,>=0.25.3->sweetviz) (2022.7)\n",
      "Requirement already satisfied: six>=1.5 in /Users/tdi/anaconda3/lib/python3.11/site-packages (from python-dateutil>=2.7->matplotlib>=3.1.3->sweetviz) (1.12.0)\n",
      "Downloading sweetviz-2.3.1-py3-none-any.whl (15.1 MB)\n",
      "\u001b[2K   \u001b[90m━━━━━━━━━━━━━━━━━━━━━━━━━━━━━━━━━━━━━━━━\u001b[0m \u001b[32m15.1/15.1 MB\u001b[0m \u001b[31m22.4 MB/s\u001b[0m eta \u001b[36m0:00:00\u001b[0m00:01\u001b[0m00:01\u001b[0m\n",
      "\u001b[?25hInstalling collected packages: sweetviz\n",
      "Successfully installed sweetviz-2.3.1\n"
     ]
    }
   ],
   "source": [
    "!pip install sweetviz"
   ]
  },
  {
   "cell_type": "code",
   "execution_count": 3,
   "id": "d56e6671",
   "metadata": {},
   "outputs": [
    {
     "name": "stdout",
     "output_type": "stream",
     "text": [
      "Collecting bokeh==2.4.3\n",
      "  Obtaining dependency information for bokeh==2.4.3 from https://files.pythonhosted.org/packages/15/06/706a9c43436cd0c3e2f4b94e93ae837e74965e59565c596b727974a74169/bokeh-2.4.3-py3-none-any.whl.metadata\n",
      "  Downloading bokeh-2.4.3-py3-none-any.whl.metadata (14 kB)\n",
      "Downloading bokeh-2.4.3-py3-none-any.whl (18.5 MB)\n",
      "\u001b[2K   \u001b[90m━━━━━━━━━━━━━━━━━━━━━━━━━━━━━━━━━━━━━━━━\u001b[0m \u001b[32m18.5/18.5 MB\u001b[0m \u001b[31m25.4 MB/s\u001b[0m eta \u001b[36m0:00:00\u001b[0m00:01\u001b[0m00:01\u001b[0m\n",
      "\u001b[?25hInstalling collected packages: bokeh\n",
      "  Attempting uninstall: bokeh\n",
      "    Found existing installation: bokeh 3.2.1\n",
      "    Uninstalling bokeh-3.2.1:\n",
      "      Successfully uninstalled bokeh-3.2.1\n",
      "Successfully installed bokeh-2.4.3\n"
     ]
    }
   ],
   "source": [
    "!pip install --force-reinstall --no-deps bokeh==2.4.3"
   ]
  },
  {
   "cell_type": "code",
   "execution_count": null,
   "id": "cd63acf9",
   "metadata": {},
   "outputs": [],
   "source": [
    "# Design Home Page\n",
    "\n",
    "import streamlit as st\n",
    "from streamlit_option_menu import option_menu\n",
    "\n",
    "import pandas as pd\n",
    "import numpy as np\n",
    "\n",
    "st.set_page_config(\n",
    "    page_title=\"Streamlit BI\",\n",
    "    page_icon=\"🧊\",\n",
    "    layout=\"wide\",\n",
    "    initial_sidebar_state=\"expanded\",\n",
    "    menu_items={\n",
    "        'Streamlit': \"https://www.streamlit.io\"\n",
    "    }\n",
    ")\n",
    "\n",
    "st.sidebar.header(\"Try Me!\", divider='rainbow')\n",
    "st.sidebar.success(\"Select a demo case from above\")\n",
    "st.image(logo, width=200)\n",
    "\n",
    "\n",
    "banner = \"\"\"\n",
    "    <body style=\"background-color:yellow;\">\n",
    "            <div style=\"background-color:#385c7f ;padding:10px\">\n",
    "                <h2 style=\"color:white;text-align:center;\">Data Science Holodeck</h2>\n",
    "            </div>\n",
    "    </body>\n",
    "    \"\"\"\n",
    "\n",
    "st.markdown(banner, unsafe_allow_html=True)\n",
    "\n",
    "\n",
    "st.markdown(\n",
    "    \"\"\"\n",
    "    ###\n",
    "        \n",
    "    👈 :green[Select a demo case from the sidebar to experience some of what Streamlit can do for BI!]\n",
    "    \n",
    "    ### To learn more\n",
    "    - Check out [our web page](https://innotechspace.dk/holodeck)\n",
    "    - Follow the guides on [EA Viden](https://www.eaviden.dk/project/data-science-holodeck/)\n",
    "    - Contact us by [email](mailto://tdi@cphbusiness.dk)\n",
    "\"\"\"\n",
    ")\n"
   ]
  },
  {
   "cell_type": "code",
   "execution_count": null,
   "id": "751b9df2",
   "metadata": {},
   "outputs": [],
   "source": []
  }
 ],
 "metadata": {
  "kernelspec": {
   "display_name": "Python 3 (ipykernel)",
   "language": "python",
   "name": "python3"
  },
  "language_info": {
   "codemirror_mode": {
    "name": "ipython",
    "version": 3
   },
   "file_extension": ".py",
   "mimetype": "text/x-python",
   "name": "python",
   "nbconvert_exporter": "python",
   "pygments_lexer": "ipython3",
   "version": "3.11.4"
  }
 },
 "nbformat": 4,
 "nbformat_minor": 5
}
